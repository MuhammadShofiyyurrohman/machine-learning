{
  "nbformat": 4,
  "nbformat_minor": 0,
  "metadata": {
    "colab": {
      "provenance": [],
      "authorship_tag": "ABX9TyO3pYY5J0vOaFOeqerFruFu",
      "include_colab_link": true
    },
    "kernelspec": {
      "name": "python3",
      "display_name": "Python 3"
    },
    "language_info": {
      "name": "python"
    }
  },
  "cells": [
    {
      "cell_type": "markdown",
      "metadata": {
        "id": "view-in-github",
        "colab_type": "text"
      },
      "source": [
        "<a href=\"https://colab.research.google.com/github/MuhammadShofiyyurrohman/machine-learning/blob/main/praktikumMandiri04.ipynb\" target=\"_parent\"><img src=\"https://colab.research.google.com/assets/colab-badge.svg\" alt=\"Open In Colab\"/></a>"
      ]
    },
    {
      "cell_type": "code",
      "source": [
        "# Import library yang dibutuhkan\n",
        "import pandas as pd\n",
        "from sklearn.model_selection import train_test_split\n",
        "from sklearn.linear_model import LogisticRegression\n",
        "from sklearn.metrics import accuracy_score, confusion_matrix, classification_report\n",
        "\n",
        "# 1️⃣ Baca dataset\n",
        "df = pd.read_csv(\"/content/drive/MyDrive/Colab Notebooks/praktikum_ml/praktikum04/data/calonpembelimobil.csv\")\n",
        "\n",
        "# 2️⃣ Lihat 5 data pertama biar tahu isinya\n",
        "print(df.head())\n",
        "\n",
        "# 3️⃣ Pisahkan variabel X (fitur) dan Y (target)\n",
        "# Misalnya kolom 'BeliMobil' adalah target (0 = tidak beli, 1 = beli)\n",
        "X = df.drop(\"Beli_Mobil\", axis=1)\n",
        "Y = df[\"Beli_Mobil\"]\n",
        "\n",
        "# 4️⃣ Bagi data jadi data latih dan data uji\n",
        "X_train, X_test, Y_train, Y_test = train_test_split(X, Y, test_size=0.2, random_state=42)\n",
        "\n",
        "# 5️⃣ Buat model Logistic Regression\n",
        "model = LogisticRegression()\n",
        "\n",
        "# 6️⃣ Latih model dengan data training\n",
        "model.fit(X_train, Y_train)\n",
        "\n",
        "# 7️⃣ Prediksi data test\n",
        "Y_pred = model.predict(X_test)\n",
        "\n",
        "# 8️⃣ Evaluasi hasil prediksi\n",
        "print(\"Akurasi Model:\", accuracy_score(Y_test, Y_pred))\n",
        "print(\"\\nConfusion Matrix:\\n\", confusion_matrix(Y_test, Y_pred))\n",
        "print(\"\\nLaporan Klasifikasi:\\n\", classification_report(Y_test, Y_pred))\n"
      ],
      "metadata": {
        "colab": {
          "base_uri": "https://localhost:8080/"
        },
        "id": "mO21Zea6CZ7F",
        "outputId": "ccd1c292-32cb-4477-9074-5518812e7122"
      },
      "execution_count": 22,
      "outputs": [
        {
          "output_type": "stream",
          "name": "stdout",
          "text": [
            "   ID  Usia  Status  Kelamin  Memiliki_Mobil  Penghasilan  Beli_Mobil\n",
            "0   1    32       1        0               0          240           1\n",
            "1   2    49       2        1               1          100           0\n",
            "2   3    52       1        0               2          250           1\n",
            "3   4    26       2        1               1          130           0\n",
            "4   5    45       3        0               2          237           1\n",
            "Akurasi Model: 0.91\n",
            "\n",
            "Confusion Matrix:\n",
            " [[ 56   8]\n",
            " [ 10 126]]\n",
            "\n",
            "Laporan Klasifikasi:\n",
            "               precision    recall  f1-score   support\n",
            "\n",
            "           0       0.85      0.88      0.86        64\n",
            "           1       0.94      0.93      0.93       136\n",
            "\n",
            "    accuracy                           0.91       200\n",
            "   macro avg       0.89      0.90      0.90       200\n",
            "weighted avg       0.91      0.91      0.91       200\n",
            "\n"
          ]
        },
        {
          "output_type": "stream",
          "name": "stderr",
          "text": [
            "/usr/local/lib/python3.12/dist-packages/sklearn/linear_model/_logistic.py:465: ConvergenceWarning: lbfgs failed to converge (status=1):\n",
            "STOP: TOTAL NO. OF ITERATIONS REACHED LIMIT.\n",
            "\n",
            "Increase the number of iterations (max_iter) or scale the data as shown in:\n",
            "    https://scikit-learn.org/stable/modules/preprocessing.html\n",
            "Please also refer to the documentation for alternative solver options:\n",
            "    https://scikit-learn.org/stable/modules/linear_model.html#logistic-regression\n",
            "  n_iter_i = _check_optimize_result(\n"
          ]
        }
      ]
    }
  ]
}