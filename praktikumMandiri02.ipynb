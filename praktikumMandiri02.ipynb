{
  "nbformat": 4,
  "nbformat_minor": 0,
  "metadata": {
    "colab": {
      "provenance": [],
      "authorship_tag": "ABX9TyOaW+LrYx+xgHT63NMA1PAn",
      "include_colab_link": true
    },
    "kernelspec": {
      "name": "python3",
      "display_name": "Python 3"
    },
    "language_info": {
      "name": "python"
    }
  },
  "cells": [
    {
      "cell_type": "markdown",
      "metadata": {
        "id": "view-in-github",
        "colab_type": "text"
      },
      "source": [
        "<a href=\"https://colab.research.google.com/github/MuhammadShofiyyurrohman/machine-learning/blob/main/praktikumMandiri02.ipynb\" target=\"_parent\"><img src=\"https://colab.research.google.com/assets/colab-badge.svg\" alt=\"Open In Colab\"/></a>"
      ]
    },
    {
      "cell_type": "code",
      "source": [
        "# menghubungkan colab dengan google drive\n",
        "from google.colab import drive\n",
        "drive.mount('/content/drive')"
      ],
      "metadata": {
        "colab": {
          "base_uri": "https://localhost:8080/"
        },
        "id": "R61nYm2iVWmF",
        "outputId": "ced2185f-eca1-417b-a2f8-b1607e800cfe"
      },
      "execution_count": 4,
      "outputs": [
        {
          "output_type": "stream",
          "name": "stdout",
          "text": [
            "Drive already mounted at /content/drive; to attempt to forcibly remount, call drive.mount(\"/content/drive\", force_remount=True).\n"
          ]
        }
      ]
    },
    {
      "cell_type": "code",
      "source": [
        "# memanggil data set lewat gdrive\n",
        "path = \"/content/drive/MyDrive/Colab Notebooks/praktikum_ml/praktikum02/\""
      ],
      "metadata": {
        "id": "BXwz9RJFVddW"
      },
      "execution_count": 5,
      "outputs": []
    },
    {
      "cell_type": "code",
      "source": [
        "# Bagi dataset menjadi 80% data pelatihan/validasi dan 20% data pengujian\n",
        "train_val_data, test_data = train_test_split(df, test_size=0.2, random_state=42)\n",
        "\n",
        "# Bagi data pelatihan/validasi menjadi 90% data pelatihan dan 10% data validasi\n",
        "train_data, val_data = train_test_split(train_val_data, test_size=0.1, random_state=42)"
      ],
      "metadata": {
        "id": "2LkrDdq_VpJf"
      },
      "execution_count": 10,
      "outputs": []
    },
    {
      "cell_type": "code",
      "source": [
        "# Tampilkan jumlah data di setiap set\n",
        "print(f\"Jumlah data training: {len(train_data)}\")\n",
        "print(f\"Jumlah data validation: {len(val_data)}\")\n",
        "print(f\"Jumlah data testing: {len(test_data)}\")\n",
        "print(\"-\" * 30)"
      ],
      "metadata": {
        "colab": {
          "base_uri": "https://localhost:8080/"
        },
        "id": "wxoA15PudSuy",
        "outputId": "c65f1f87-5146-4632-d116-f17c3812277e"
      },
      "execution_count": 11,
      "outputs": [
        {
          "output_type": "stream",
          "name": "stdout",
          "text": [
            "Jumlah data training: 360\n",
            "Jumlah data validation: 40\n",
            "Jumlah data testing: 100\n",
            "------------------------------\n"
          ]
        }
      ]
    },
    {
      "cell_type": "code",
      "source": [
        "# Tampilkan 5 baris data teratas untuk setiap set\n",
        "print(\"5 baris data teratas untuk Data Training:\")\n",
        "print(train_data.head())\n",
        "print(\"-\" * 30)"
      ],
      "metadata": {
        "colab": {
          "base_uri": "https://localhost:8080/"
        },
        "id": "gfi4DZmTfEgu",
        "outputId": "a4958d5b-1fc7-4965-bfb6-76381ca4b355"
      },
      "execution_count": 12,
      "outputs": [
        {
          "output_type": "stream",
          "name": "stdout",
          "text": [
            "5 baris data teratas untuk Data Training:\n",
            "     Gender  Height  Weight  Index\n",
            "151    Male     140      52      3\n",
            "357  Female     186     143      5\n",
            "373  Female     163      63      2\n",
            "227    Male     188     123      4\n",
            "404    Male     193     130      4\n",
            "------------------------------\n"
          ]
        }
      ]
    },
    {
      "cell_type": "code",
      "source": [
        "print(\"5 baris data teratas untuk Data Validation:\")\n",
        "print(val_data.head())\n",
        "print(\"-\" * 30)"
      ],
      "metadata": {
        "colab": {
          "base_uri": "https://localhost:8080/"
        },
        "id": "4DE1ra3wfJlv",
        "outputId": "62d0353d-a5f0-4cf3-b63f-69ff6a777342"
      },
      "execution_count": 13,
      "outputs": [
        {
          "output_type": "stream",
          "name": "stdout",
          "text": [
            "5 baris data teratas untuk Data Validation:\n",
            "     Gender  Height  Weight  Index\n",
            "120  Female     168      87      4\n",
            "128    Male     182     151      5\n",
            "271    Male     152     103      5\n",
            "349  Female     157      60      2\n",
            "272  Female     187     121      4\n",
            "------------------------------\n"
          ]
        }
      ]
    },
    {
      "cell_type": "code",
      "source": [
        "print(\"5 baris data teratas untuk Data Testing:\")\n",
        "print(test_data.head())"
      ],
      "metadata": {
        "colab": {
          "base_uri": "https://localhost:8080/"
        },
        "id": "AqJ2B74hfK0T",
        "outputId": "7cb54a2a-e553-4d30-a7df-297d34c25845"
      },
      "execution_count": 14,
      "outputs": [
        {
          "output_type": "stream",
          "name": "stdout",
          "text": [
            "5 baris data teratas untuk Data Testing:\n",
            "     Gender  Height  Weight  Index\n",
            "361    Male     161     103      4\n",
            "73     Male     180      75      2\n",
            "374    Male     174      95      4\n",
            "155  Female     179     103      4\n",
            "104  Female     192     140      4\n"
          ]
        }
      ]
    }
  ]
}